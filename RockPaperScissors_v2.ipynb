{
 "cells": [
  {
   "cell_type": "markdown",
   "metadata": {},
   "source": [
    "# Rock, Paper and Scissors"
   ]
  },
  {
   "cell_type": "code",
   "execution_count": 1,
   "metadata": {},
   "outputs": [],
   "source": [
    "import sys\n",
    "import time\n",
    "\n",
    "from flask import Flask, render_template, request\n",
    "from ipywidgets import widgets\n",
    "from IPython.display import display\n",
    "from random import randint\n",
    "from wtforms import Form"
   ]
  },
  {
   "cell_type": "markdown",
   "metadata": {},
   "source": [
    "## Regeln"
   ]
  },
  {
   "cell_type": "code",
   "execution_count": 2,
   "metadata": {
    "collapsed": true
   },
   "outputs": [],
   "source": [
    "domain = [\"rock\",\"paper\",\"scissors\"]\n",
    "result_p1_wins = \"Player 1 wins!\"\n",
    "result_p2_wins = \"Player 2 wins!\""
   ]
  },
  {
   "cell_type": "code",
   "execution_count": 3,
   "metadata": {
    "collapsed": true
   },
   "outputs": [],
   "source": [
    "def game_logic(player_1, player_2):\n",
    "    if player_1 in domain and player_2 in domain:\n",
    "\n",
    "        if player_1 == player_2:\n",
    "            return(\"No winner!\")\n",
    "        else:        \n",
    "            if player_1 == \"paper\":\n",
    "                if player_2 == \"rock\":\n",
    "                    return(result_p1_wins)\n",
    "                else:\n",
    "                    return(result_p2_wins)\n",
    "\n",
    "            if player_1 == \"rock\":\n",
    "                if player_2 == \"scissors\":\n",
    "                    return(result_p1_wins)\n",
    "                else:\n",
    "                    return(result_p2_wins)    \n",
    "\n",
    "            if player_1 == \"scissors\":\n",
    "                if player_2 == \"paper\":\n",
    "                    return(result_p1_wins)\n",
    "                else:\n",
    "                    return(result_p2_wins)\n",
    "    else:\n",
    "        return(\"Random error\")"
   ]
  },
  {
   "cell_type": "code",
   "execution_count": 4,
   "metadata": {
    "collapsed": true
   },
   "outputs": [],
   "source": [
    "def label_2_int(lbl):\n",
    "    return {\n",
    "        'rock': 0,\n",
    "        'paper': 1,\n",
    "        'scissors': 2\n",
    "    }[lbl]"
   ]
  },
  {
   "cell_type": "code",
   "execution_count": 5,
   "metadata": {
    "collapsed": true
   },
   "outputs": [],
   "source": [
    "def int_2_label(nmbr):\n",
    "    return {\n",
    "        0: 'rock',\n",
    "        1: 'paper',\n",
    "        2: 'scissors'\n",
    "    }[nmbr]"
   ]
  },
  {
   "cell_type": "code",
   "execution_count": 6,
   "metadata": {
    "collapsed": true
   },
   "outputs": [],
   "source": [
    "def random_play():\n",
    "    number = randint(0, len(domain) - 1)\n",
    "    label = int_2_label(number)\n",
    "    return label;"
   ]
  },
  {
   "cell_type": "code",
   "execution_count": 7,
   "metadata": {},
   "outputs": [],
   "source": [
    "def play(player_choice):\n",
    "    print('We play ' + str(num_rounds) + ' round(s) of Rock-Paper-Scissors. Press r for rock, p for paper or s for scissors within the next 3 seconds.')\n",
    "    for n in range(num_rounds):\n",
    "        for i in range(3, 0, -1):\n",
    "            time.sleep(1)\n",
    "            print(' ' + str(i))\n",
    "    "
   ]
  },
  {
   "cell_type": "code",
   "execution_count": 8,
   "metadata": {},
   "outputs": [],
   "source": [
    "def play_series(player_1, player_2):\n",
    "    player_1_wins = 0\n",
    "    player_2_wins = 0\n",
    "    for i in range(len(player_1)):\n",
    "        result = game_logic(player_1[i],  player_2[i])\n",
    "        print(str(i) + ' | player 1: ' + player_1[i] + '\\t player 2: ' + player_2[i] + '\\t | ' + result)\n",
    "        if (result == result_p1_wins):\n",
    "            player_1_wins = player_1_wins + 1\n",
    "        if (result == result_p2_wins):\n",
    "            player_2_wins = player_2_wins + 1     \n",
    "    print('\\nplayer 1: ' + str(player_1_wins) + ' win(s)\\t player 2: ' + str(player_2_wins) + ' win(s)') "
   ]
  },
  {
   "cell_type": "code",
   "execution_count": 9,
   "metadata": {
    "collapsed": true
   },
   "outputs": [],
   "source": [
    "def play_game(player_1):\n",
    "    player_2 = [random_play() for i in range(len(player_1))]\n",
    "    play_series(player_1, player_2)"
   ]
  },
  {
   "cell_type": "markdown",
   "metadata": {},
   "source": [
    "### Testing"
   ]
  },
  {
   "cell_type": "code",
   "execution_count": 10,
   "metadata": {},
   "outputs": [
    {
     "data": {
      "text/plain": [
       "'Player 1 wins!'"
      ]
     },
     "execution_count": 10,
     "metadata": {},
     "output_type": "execute_result"
    }
   ],
   "source": [
    "game_logic(\"paper\",\"rock\")"
   ]
  },
  {
   "cell_type": "code",
   "execution_count": 11,
   "metadata": {},
   "outputs": [
    {
     "data": {
      "text/plain": [
       "'Random error'"
      ]
     },
     "execution_count": 11,
     "metadata": {},
     "output_type": "execute_result"
    }
   ],
   "source": [
    "game_logic(\"scissors\", \"rack\")"
   ]
  },
  {
   "cell_type": "code",
   "execution_count": 12,
   "metadata": {},
   "outputs": [
    {
     "data": {
      "text/plain": [
       "'Player 2 wins!'"
      ]
     },
     "execution_count": 12,
     "metadata": {},
     "output_type": "execute_result"
    }
   ],
   "source": [
    "game_logic(\"scissors\", \"rock\")"
   ]
  },
  {
   "cell_type": "code",
   "execution_count": 13,
   "metadata": {},
   "outputs": [
    {
     "name": "stdout",
     "output_type": "stream",
     "text": [
      "0 | player 1: rock\t player 2: paper\t | Player 2 wins!\n",
      "1 | player 1: paper\t player 2: rock\t | Player 1 wins!\n",
      "2 | player 1: scissors\t player 2: rock\t | Player 2 wins!\n",
      "\n",
      "player 1: 1 win(s)\t player 2: 2 win(s)\n"
     ]
    }
   ],
   "source": [
    "play_series(['rock', 'paper', 'scissors'], ['paper', 'rock', 'rock'])"
   ]
  },
  {
   "cell_type": "code",
   "execution_count": 14,
   "metadata": {},
   "outputs": [
    {
     "data": {
      "text/plain": [
       "0"
      ]
     },
     "execution_count": 14,
     "metadata": {},
     "output_type": "execute_result"
    }
   ],
   "source": [
    "label_2_int('rock')"
   ]
  },
  {
   "cell_type": "code",
   "execution_count": 15,
   "metadata": {},
   "outputs": [
    {
     "data": {
      "text/plain": [
       "'rock'"
      ]
     },
     "execution_count": 15,
     "metadata": {},
     "output_type": "execute_result"
    }
   ],
   "source": [
    "int_2_label(0)"
   ]
  },
  {
   "cell_type": "code",
   "execution_count": 16,
   "metadata": {},
   "outputs": [
    {
     "data": {
      "text/plain": [
       "'scissors'"
      ]
     },
     "execution_count": 16,
     "metadata": {},
     "output_type": "execute_result"
    }
   ],
   "source": [
    "random_play()"
   ]
  },
  {
   "cell_type": "code",
   "execution_count": 17,
   "metadata": {},
   "outputs": [
    {
     "name": "stdout",
     "output_type": "stream",
     "text": [
      "0 | player 1: rock\t player 2: paper\t | Player 2 wins!\n",
      "1 | player 1: paper\t player 2: scissors\t | Player 2 wins!\n",
      "2 | player 1: scissors\t player 2: rock\t | Player 2 wins!\n",
      "\n",
      "player 1: 0 win(s)\t player 2: 3 win(s)\n"
     ]
    }
   ],
   "source": [
    "play_game(['rock', 'paper', 'scissors'])"
   ]
  },
  {
   "cell_type": "code",
   "execution_count": 18,
   "metadata": {},
   "outputs": [
    {
     "name": "stdout",
     "output_type": "stream",
     "text": [
      "0 | player 1: scissors\t player 2: rock\t | Player 2 wins!\n",
      "1 | player 1: rock\t player 2: paper\t | Player 2 wins!\n",
      "2 | player 1: rock\t player 2: rock\t | No winner!\n",
      "3 | player 1: rock\t player 2: paper\t | Player 2 wins!\n",
      "4 | player 1: paper\t player 2: paper\t | No winner!\n",
      "\n",
      "player 1: 0 win(s)\t player 2: 3 win(s)\n"
     ]
    }
   ],
   "source": [
    "play_game(['scissors', 'rock', 'rock', 'rock', 'paper'])"
   ]
  },
  {
   "cell_type": "markdown",
   "metadata": {},
   "source": [
    "## Play !"
   ]
  },
  {
   "cell_type": "code",
   "execution_count": 19,
   "metadata": {},
   "outputs": [
    {
     "name": "stdout",
     "output_type": "stream",
     "text": [
      "0 | player 1: paper\t player 2: paper\t | No winner!\n",
      "1 | player 1: rock\t player 2: paper\t | Player 2 wins!\n",
      "2 | player 1: rock\t player 2: paper\t | Player 2 wins!\n",
      "3 | player 1: scissors\t player 2: paper\t | Player 1 wins!\n",
      "4 | player 1: scissors\t player 2: rock\t | Player 2 wins!\n",
      "5 | player 1: paper\t player 2: rock\t | Player 1 wins!\n",
      "6 | player 1: paper\t player 2: paper\t | No winner!\n",
      "\n",
      "player 1: 2 win(s)\t player 2: 3 win(s)\n"
     ]
    }
   ],
   "source": [
    "play_game(['paper','rock','rock','scissors','scissors','paper','paper'])"
   ]
  },
  {
   "cell_type": "code",
   "execution_count": null,
   "metadata": {
    "collapsed": true
   },
   "outputs": [],
   "source": []
  }
 ],
 "metadata": {
  "kernelspec": {
   "display_name": "Python 3",
   "language": "python",
   "name": "python3"
  },
  "language_info": {
   "codemirror_mode": {
    "name": "ipython",
    "version": 3
   },
   "file_extension": ".py",
   "mimetype": "text/x-python",
   "name": "python",
   "nbconvert_exporter": "python",
   "pygments_lexer": "ipython3",
   "version": "3.5.4"
  }
 },
 "nbformat": 4,
 "nbformat_minor": 2
}
