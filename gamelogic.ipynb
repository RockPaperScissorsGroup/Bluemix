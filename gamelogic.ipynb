{
 "cells": [
  {
   "cell_type": "markdown",
   "metadata": {
    "toc": "true"
   },
   "source": [
    "# Table of Contents\n",
    " <p><div class=\"lev1 toc-item\"><a href=\"#Regeln\" data-toc-modified-id=\"Regeln-1\"><span class=\"toc-item-num\">1&nbsp;&nbsp;</span>Regeln</a></div><div class=\"lev1 toc-item\"><a href=\"#Frontend\" data-toc-modified-id=\"Frontend-2\"><span class=\"toc-item-num\">2&nbsp;&nbsp;</span>Frontend</a></div>"
   ]
  },
  {
   "cell_type": "code",
   "execution_count": 35,
   "metadata": {
    "ExecuteTime": {
     "end_time": "2017-09-14T15:41:27.631246Z",
     "start_time": "2017-09-14T15:41:27.630246Z"
    }
   },
   "outputs": [],
   "source": [
    "from flask import Flask, render_template, request\n",
    "from wtforms import Form\n",
    "import pickle"
   ]
  },
  {
   "cell_type": "markdown",
   "metadata": {
    "editable": false,
    "run_control": {
     "frozen": true
    }
   },
   "source": [
    "# Regeln"
   ]
  },
  {
   "cell_type": "code",
   "execution_count": 24,
   "metadata": {
    "ExecuteTime": {
     "end_time": "2017-09-14T15:35:42.853390Z",
     "start_time": "2017-09-14T15:35:42.852390Z"
    },
    "collapsed": true
   },
   "outputs": [],
   "source": [
    "domain = [\"rock\",\"paper\",\"scissors\",\"lizard\",\"spock\"]"
   ]
  },
  {
   "cell_type": "code",
   "execution_count": 25,
   "metadata": {
    "ExecuteTime": {
     "end_time": "2017-09-14T15:35:57.077054Z",
     "start_time": "2017-09-14T15:35:57.056054Z"
    }
   },
   "outputs": [],
   "source": [
    "def game_logic(player_1, player_2):\n",
    "    if player_1 in domain and player_2 in domain:\n",
    "\n",
    "        if player_1 == player_2:\n",
    "            return(\"No winner!\")\n",
    "        else:        \n",
    "            if player_1 == \"paper\":\n",
    "                if player_2 == \"rock\" or player_2 == \"spock\":\n",
    "                    return(\"Player 1 wins!\")\n",
    "                else:\n",
    "                    return(\"Player 2 wins!\")\n",
    "\n",
    "            if player_1 == \"rock\":\n",
    "                if player_2 == \"lizard\" or player_2 == \"scissors\":\n",
    "                    return(\"Player 1 wins!\")\n",
    "                else:\n",
    "                    return(\"Player 2 wins!\")    \n",
    "\n",
    "            if player_1 == \"lizard\":\n",
    "                if player_2 == \"spock\" or player_2 == \"paper\":\n",
    "                    return(\"Player 1 wins!\")\n",
    "                else:\n",
    "                    return(\"Player 2 wins!\")\n",
    "\n",
    "            if player_1 == \"spock\":\n",
    "                if player_2 == \"rock\" or player_2 == \"scissors\":\n",
    "                    return(\"Player 1 wins!\")\n",
    "                else:\n",
    "                    return(\"Player 2 wins!\")\n",
    "\n",
    "            if player_1 == \"scissors\":\n",
    "                if player_2 == \"paper\" or player_2 == \"lizard\":\n",
    "                    return(\"Player 1 wins!\")\n",
    "                else:\n",
    "                    return(\"Player 2 wins!\")\n",
    "    else:\n",
    "        return(\"Random error\")"
   ]
  },
  {
   "cell_type": "code",
   "execution_count": 26,
   "metadata": {
    "ExecuteTime": {
     "end_time": "2017-09-14T15:35:57.867650Z",
     "start_time": "2017-09-14T15:35:57.866650Z"
    }
   },
   "outputs": [
    {
     "data": {
      "text/plain": [
       "'Player 1 wins!'"
      ]
     },
     "execution_count": 26,
     "metadata": {},
     "output_type": "execute_result"
    }
   ],
   "source": [
    "game_logic(\"paper\",\"rock\")"
   ]
  },
  {
   "cell_type": "code",
   "execution_count": 30,
   "metadata": {
    "ExecuteTime": {
     "end_time": "2017-09-14T15:36:05.668779Z",
     "start_time": "2017-09-14T15:36:05.667779Z"
    }
   },
   "outputs": [
    {
     "data": {
      "text/plain": [
       "'Random error'"
      ]
     },
     "execution_count": 30,
     "metadata": {},
     "output_type": "execute_result"
    }
   ],
   "source": [
    "game_logic(\"lizard\", \"rack\")"
   ]
  },
  {
   "cell_type": "markdown",
   "metadata": {},
   "source": [
    "# Frontend"
   ]
  },
  {
   "cell_type": "code",
   "execution_count": null,
   "metadata": {
    "collapsed": true
   },
   "outputs": [],
   "source": [
    "app = Flask(__name__)\n"
   ]
  }
 ],
 "metadata": {
  "kernelspec": {
   "display_name": "rockpaperscissors (py3.5)",
   "language": "python",
   "name": "rockpaperscissors"
  },
  "language_info": {
   "codemirror_mode": {
    "name": "ipython",
    "version": 3
   },
   "file_extension": ".py",
   "mimetype": "text/x-python",
   "name": "python",
   "nbconvert_exporter": "python",
   "pygments_lexer": "ipython3",
   "version": "3.5.4"
  },
  "toc": {
   "colors": {
    "hover_highlight": "#DAA520",
    "navigate_num": "#000000",
    "navigate_text": "#333333",
    "running_highlight": "#FF0000",
    "selected_highlight": "#FFD700",
    "sidebar_border": "#EEEEEE",
    "wrapper_background": "#FFFFFF"
   },
   "moveMenuLeft": true,
   "nav_menu": {
    "height": "34px",
    "width": "254px"
   },
   "navigate_menu": true,
   "number_sections": true,
   "sideBar": true,
   "threshold": 4,
   "toc_cell": true,
   "toc_section_display": "block",
   "toc_window_display": false,
   "widenNotebook": false
  }
 },
 "nbformat": 4,
 "nbformat_minor": 2
}
